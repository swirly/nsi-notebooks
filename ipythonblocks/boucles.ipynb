{
 "cells": [
  {
   "cell_type": "markdown",
   "metadata": {},
   "source": [
    "# Apprendre les boucles avec ipythonblocks\n",
    "\n",
    "L'objectif de ce TD est d'apprendre à utiliser les boucles grâce à ipythonblocks. Pour savoir comment utiliser la bibliothèque ipythonblocks, vous pouvez vous référer au [calepin d'introduction](introduction.ipynb) en particulier pour voir les techniques sur l'animation avec la méthode *flash* ou au [site web de ipythonblocs](http://www.ipythonblocks.org/)\n",
    "\n",
    "## Une boucle simple\n",
    "\n",
    "La première chose que l'on va faire est de partir avec un grille initialement noire."
   ]
  },
  {
   "cell_type": "code",
   "execution_count": null,
   "metadata": {},
   "outputs": [],
   "source": [
    "from ipythonblocks import BlockGrid\n",
    "\n",
    "grille = BlockGrid(36,24,fill=(0,0,0))\n",
    "grille.show()"
   ]
  },
  {
   "cell_type": "markdown",
   "metadata": {},
   "source": [
    "On utilise une boucle pour mettre la ligne du haut en rouge avec ls instructions suivantes :"
   ]
  },
  {
   "cell_type": "code",
   "execution_count": null,
   "metadata": {},
   "outputs": [],
   "source": [
    "for i in range(grille.width):\n",
    "    grille[0,i].red=255\n",
    "grille.show()"
   ]
  },
  {
   "cell_type": "markdown",
   "metadata": {},
   "source": [
    "### *À faire vous même*\n",
    "***\n",
    "Écrivez le code nécessaire pour faire les 4 bords de la grille sous forme d'une ligne rouge.\n",
    "*NB : la hauteur de la grille est dans la variable grille.height* \n",
    "***"
   ]
  },
  {
   "cell_type": "code",
   "execution_count": null,
   "metadata": {},
   "outputs": [],
   "source": [
    "# Mettez votre code ici"
   ]
  },
  {
   "cell_type": "markdown",
   "metadata": {},
   "source": [
    "## Utiliser le compteur de la boucle\n",
    "\n",
    "Jusqu'ici, nous avons effectué des boucles en utilisant le compteur seulement pour la position. Nous allons maintenant l'utiliser aussi pour les actions sur les blocs de la grille.\n",
    "\n",
    "L'objectif est d'avoir pour la première ligne un dégradé qui va du rouge au jaune.\n",
    "\n",
    "***À faire vous même***\n",
    "***\n",
    "Allez sur le site [colorpicker](https://www.webfx.com/web-design/color-picker/FFFF00) et vérifiez que le jaune lumineux est bien composé de rouge à 255 et vert à 255\n",
    "***\n",
    "\n",
    "On ne va rien changer à la composante rouge de nos blocs. Par contre, pour la première ligne, on va modifier la composante verte qui vaudra 0 à gauche, et 255 à droite. L'objectif est d'arriver à la grille ci dessous\n",
    "\n",
    "<img src=\"degrade_1.png\">\n",
    "\n",
    "***À faire vous même***\n",
    "***\n",
    "Écrivez le code pour arriver à cette grille\n",
    "***"
   ]
  },
  {
   "cell_type": "code",
   "execution_count": null,
   "metadata": {},
   "outputs": [],
   "source": [
    "# Mettez votre code ici"
   ]
  },
  {
   "cell_type": "markdown",
   "metadata": {},
   "source": [
    "***À faire vous même***\n",
    "***\n",
    "Vous allez maintenant compléter cet exercice pour avoir le dégradé sur les 4 bords comme dans la figure ci dessous.\n",
    "<img src=\"degrade_2.png\">\n",
    "***\n"
   ]
  },
  {
   "cell_type": "markdown",
   "metadata": {},
   "source": [
    "## Les boucles while\n",
    "\n",
    "Les boucles while permettent elle aussi de faire des répétitions. Au lieu de parcourir une liste, elle se répétent tant qu'une condition est vraie. Une façon courante de les utiliser est de procéder en \n",
    " * initialisant une variable avant la boucle\n",
    " * indiquer la valeur limite de la variable\n",
    " * au sein de la boucle, incrémenter la variable\n",
    " \n",
    "Voici le code qui reprend le premier exercice en utilisant la boucle while"
   ]
  },
  {
   "cell_type": "code",
   "execution_count": null,
   "metadata": {},
   "outputs": [],
   "source": [
    "grille = BlockGrid(36,24,fill=(0,0,0))\n",
    "i=0\n",
    "while i < grille.width :\n",
    "    grille[0,i].red=255\n",
    "    i = i+1 # ne pas oublier cette ligne, sinon, on part dans une boucle infinie !\n",
    "grille.show()"
   ]
  },
  {
   "cell_type": "markdown",
   "metadata": {},
   "source": [
    "***À faire vous même***\n",
    "***\n",
    "Refaîtes l'exercice des 4 bords en dégradé en utilisant cette fois la boucle while\n",
    "***"
   ]
  },
  {
   "cell_type": "code",
   "execution_count": null,
   "metadata": {},
   "outputs": [],
   "source": [
    "# Insérez votre code ici"
   ]
  },
  {
   "cell_type": "markdown",
   "metadata": {},
   "source": [
    "On va passer au TD suivant, qui s'intéresse aux [boucles imbriquées](boucles_imbriquees.ipynb)"
   ]
  }
 ],
 "metadata": {
  "kernelspec": {
   "display_name": "Python 3.7",
   "language": "python",
   "name": "python37"
  },
  "language_info": {
   "codemirror_mode": {
    "name": "ipython",
    "version": 3
   },
   "file_extension": ".py",
   "mimetype": "text/x-python",
   "name": "python",
   "nbconvert_exporter": "python",
   "pygments_lexer": "ipython3",
   "version": "3.7.4"
  }
 },
 "nbformat": 4,
 "nbformat_minor": 2
}

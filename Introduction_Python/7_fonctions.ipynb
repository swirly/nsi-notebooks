{
 "cells": [
  {
   "cell_type": "code",
   "execution_count": 1,
   "metadata": {},
   "outputs": [
    {
     "data": {
      "text/html": [
       "<style>html {\n",
       "  font-size: 62.5% !important; }\n",
       "body {\n",
       "  font-size: 1.5em !important; /* currently ems cause chrome bug misinterpreting rems on body element */\n",
       "  line-height: 1.6 !important;\n",
       "  font-weight: 400 !important;\n",
       "  font-family: \"Raleway\", \"HelveticaNeue\", \"Helvetica Neue\", Helvetica, Arial, sans-serif !important;\n",
       "  color: #111 !important; }\n",
       "\n",
       "div{ border-radius: 0px !important;  }\n",
       "div.CodeMirror-sizer{ background: rgb(244, 244, 248) !important; }\n",
       "div.input_area{ background: rgb(244, 244, 248) !important; }\n",
       "\n",
       "div.out_prompt_overlay:hover{ background: rgb(244, 244, 248) !important; }\n",
       "div.input_prompt:hover{ background: rgb(244, 244, 248) !important; }\n",
       "\n",
       "h1, h2, h3, h4, h5, h6 {\n",
       "  color: #333 !important;\n",
       "  margin-top: 0 !important;\n",
       "  margin-bottom: 1rem !important;\n",
       "  font-weight: 300 !important; }\n",
       "h1 { font-size: 4.0rem !important; line-height: 1.2 !important;  letter-spacing: -.1rem !important;}\n",
       "h2 { font-size: 3.6rem !important; line-height: 1.25 !important; letter-spacing: -.1rem !important; }\n",
       "h3 { font-size: 3.0rem !important; line-height: 1.3 !important;  letter-spacing: -.1rem !important; }\n",
       "h4 { font-size: 2.4rem !important; line-height: 1.35 !important; letter-spacing: -.08rem !important; }\n",
       "h5 { font-size: 1.8rem !important; line-height: 1.5 !important;  letter-spacing: -.05rem !important; }\n",
       "h6 { font-size: 1.5rem !important; line-height: 1.6 !important;  letter-spacing: 0 !important; }\n",
       "\n",
       "@media (min-width: 550px) {\n",
       "  h1 { font-size: 5.0rem !important; }\n",
       "  h2 { font-size: 4.2rem !important; }\n",
       "  h3 { font-size: 3.6rem !important; }\n",
       "  h4 { font-size: 3.0rem !important; }\n",
       "  h5 { font-size: 2.4rem !important; }\n",
       "  h6 { font-size: 1.5rem !important; }\n",
       "}\n",
       "\n",
       "p {\n",
       "  margin-top: 0 !important; \n",
       "  margin-bottom: 0.9rem !important;\n",
       "  text-align: justify !important;\n",
       "  text-indent: 1.5rem;\n",
       "  color:#111;\n",
       "}\n",
       "\n",
       "a {\n",
       "  color: #1EAEDB !important; }\n",
       "a:hover {\n",
       "  color: #0FA0CE !important; }\n",
       "  \n",
       "code {\n",
       "  padding: .2rem .5rem !important;\n",
       "  margin: 0 .2rem !important;\n",
       "  font-size: 90% !important;\n",
       "  white-space: nowrap !important;\n",
       "  background: #F1F1F1 !important;\n",
       "  border: 1px solid #E1E1E1 !important;\n",
       "  border-radius: 4px !important; }\n",
       "pre > code {\n",
       "  display: block !important;\n",
       "  padding: 1rem 1.5rem !important;\n",
       "  white-space: pre !important; }\n",
       "  \n",
       "button{ border-radius: 0px !important; }\n",
       ".navbar-inner{ background-image: none !important;  }\n",
       "select, textarea{ border-radius: 0px !important; }\n",
       "\n",
       "/* TEST */\n",
       "/* GLOBALS */\n",
       "body {background-color: #fdf6e3;}\n",
       "a {color: #268bd2;}\n",
       "\n",
       "/* INTRO PAGE */\n",
       ".toolbar_info, .list-container {color: #073642;}\n",
       "\n",
       "/* NOTEBOOK */\n",
       "\n",
       "/* comment out this line to bring the toolbar back */\n",
       "/* div#maintoolbar, div#header {display: none !important;}\n",
       "*/\n",
       "\n",
       "div#notebook, div.CodeMirror, div.output_area pre, div.output_wrapper, div.prompt {\n",
       "  font-family: 'Custom Font Name', monospace !important;\n",
       "}\n",
       "\n",
       "div#notebook {border-top: none;}\n",
       "\n",
       "div.input_prompt {color: #6c71c4;}\n",
       "div.output_prompt {color: #d33682;}\n",
       "div.input_area {\n",
       "  border-radius: 0px;\n",
       "  border: 1px solid #93a1a1;\n",
       "}\n",
       "div.output_area pre {font-weight: normal; color: #586e75;}\n",
       "div.output_subarea {font-weight: normal; color: #586e75;}\n",
       "\n",
       ".rendered_html table, .rendered_html th, .rendered_html tr, .rendered_html td {\n",
       "  border: 1px  #657b83 solid;\n",
       "  color: #657b83;\n",
       "}\n",
       "div.output_html { font-family: sans-serif; }\n",
       "table.dataframe tr {border: 1px #586e75;}\n",
       "\n",
       "div.cell.selected {border-radius: 0px;}\n",
       "div.cell.edit_mode {border-radius: 0px; border: thin solid #d33682;}\n",
       "div.text_cell_render, div.output_html {color: #586e75;}\n",
       "\n",
       "span.ansiblack {color: #073642;}\n",
       "span.ansiblue {color: #2aa198;}\n",
       "span.ansigray {color: #839496;}\n",
       "span.ansigreen {color: #859900;}\n",
       "span.ansipurple {color: #6c71c4;}\n",
       "span.ansired {color: #dc322f;}\n",
       "span.ansiyellow {color: #b58900;}\n",
       "\n",
       "div.output_stderr {background-color: #dc322f;}\n",
       "div.output_stderr pre {color: #eee8d5;}\n",
       "\n",
       ".cm-s-ipython.CodeMirror {background: #fdf6e3; color: #073642;}\n",
       ".cm-s-ipython div.CodeMirror-selected {background: #eee8d5 !important;}\n",
       ".cm-s-ipython .CodeMirror-gutters {background: #fdf6e3; border-right: 0px;}\n",
       ".cm-s-ipython .CodeMirror-linenumber {color: #839496;}\n",
       ".cm-s-ipython .CodeMirror-cursor {border-left: 1px solid #657b83 !important;}\n",
       "\n",
       ".cm-s-ipython span.cm-comment {color: #d33682;}\n",
       ".cm-s-ipython span.cm-atom {color: #6c71c4;}\n",
       ".cm-s-ipython span.cm-number {color: #6c71c4;}\n",
       "\n",
       ".cm-s-ipython span.cm-property, .cm-s-ipython span.cm-attribute {color: #859900;}\n",
       ".cm-s-ipython span.cm-keyword {color: #dc322f;}\n",
       ".cm-s-ipython span.cm-string {color: #b58900;}\n",
       ".cm-s-ipython span.cm-operator {color: #d33682;}\n",
       ".cm-s-ipython span.cm-builtin {color: #6c71c4;}\n",
       "\n",
       ".cm-s-ipython span.cm-variable {color: #859900;}\n",
       ".cm-s-ipython span.cm-variable-2 {color: #268bd2;}\n",
       ".cm-s-ipython span.cm-def {color: #cb4b16;}\n",
       ".cm-s-ipython span.cm-error {background: #dc322f; color: #657b83;}\n",
       ".cm-s-ipython span.cm-bracket {color: #586e75;}\n",
       ".cm-s-ipython span.cm-tag {color: #dc322f;}\n",
       ".cm-s-ipython span.cm-link {color: #6c71c4;}\n",
       "\n",
       ".cm-s-ipython .CodeMirror-matchingbracket { text-decoration: underline; color: #073642 !important;}\n",
       "</style>"
      ],
      "text/plain": [
       "<IPython.core.display.HTML object>"
      ]
     },
     "execution_count": 1,
     "metadata": {},
     "output_type": "execute_result"
    }
   ],
   "source": [
    "from IPython.display import HTML\n",
    "HTML('<style>{}</style>'.format(open('custom.css').read()))"
   ]
  },
  {
   "cell_type": "markdown",
   "metadata": {},
   "source": [
    "<div style=\"text-align: center\"><img src=\"https://www.python.org/static/img/python-logo.png\"></div>"
   ]
  },
  {
   "cell_type": "markdown",
   "metadata": {},
   "source": [
    "# Les fonctions en Python\n",
    "\n",
    "## Principe de base\n",
    "\n",
    "### Fonction sans argument\n",
    "\n",
    "Les fonctions constituent l'outil de base en programmation. Il s'agit de pouvoir créer un bloc d'instruction pour répéter une même tâche à différents endroits du programme.\n",
    "\n",
    "Voici un premier exemple. Tout le monde sait que la table de multiplication de 7 est celle qui souvent pose le plus de problème à apprendre aux enfants. Imaginons que dans un programme, nous décidions de l'afficher à de nombreuses reprises. On crée alors une fonction pour cela.\n",
    "\n",
    "Une fonction est créée avec le mot clef **def** suivi du nom de la fonction et de parenthèses (nous verrons pourquoi après). Après cela, on place les deux points qui indiquent que va suivre le bloc d'instruction exécuté par la fonction\n",
    "\n",
    "\n",
    "Ce bloc d'instruction est délimité par l'indentation. L'ensemble des instructions qui seront exécutées par la fonction est décalé à droite\n",
    "\n",
    "```\n",
    "  def nomFonction() :\n",
    "    ...\n",
    "    bloc d'instruction\n",
    "    ...\n",
    "    ...\n",
    "```\n",
    "Voici par l'exemple de cette fonction pour écrire la table de multiplication par 7\n"
   ]
  },
  {
   "cell_type": "code",
   "execution_count": null,
   "metadata": {},
   "outputs": [],
   "source": [
    "def table7():\n",
    "    print(\"Table de multiplication par 7\")\n",
    "    for i in range(13):\n",
    "        resultat = i*7\n",
    "        print(str(i)+\" fois 7 égal \"+str(resultat))"
   ]
  },
  {
   "cell_type": "markdown",
   "metadata": {},
   "source": [
    "Vous avez exécuté la cellule au dessus ? Il ne se passe absolument rien ! En apparence seulement. Car maintenant, notre fonction est définie et nous pouvons l'utiliser. Il suffit pour cela d'utiliser le nom de la fonction."
   ]
  },
  {
   "cell_type": "code",
   "execution_count": null,
   "metadata": {},
   "outputs": [],
   "source": [
    "table7()"
   ]
  },
  {
   "cell_type": "markdown",
   "metadata": {},
   "source": [
    "### Fonction avec un  argument\n",
    "\n",
    "Afficher la table de multiplication de 7, c'est bien. Mais on pourrait afficher n'importe quelle table de multiplication, ce serait encore mieux. Pour cela, on utilise un argument dans la fonction. Il se place entre les parenthèses"
   ]
  },
  {
   "cell_type": "code",
   "execution_count": null,
   "metadata": {},
   "outputs": [],
   "source": [
    "def table_mult(n):\n",
    "    print(\"------------------------------\")\n",
    "    print(\"table de multiplication par \"+str(n))\n",
    "    print(\"------------------------------\")\n",
    "    for i in range(13):\n",
    "        resultat = i*n\n",
    "        print(str(i)+\" fois \"+str(n)+\" égal \"+str(resultat))\n",
    "    \n",
    "table_mult(2)\n",
    "table_mult(7)"
   ]
  },
  {
   "cell_type": "markdown",
   "metadata": {},
   "source": [
    "### Définir un argument par défaut\n",
    "\n",
    "Nous avons défini une fonction pour afficher une table de multiplication avec pour argument la table de multiplication. Nous pouvons donner un argument par défaut : si la table n'est pas précisé, c'est la table de 7 qui sera utilisé. Il suffit pour cela d'affecter une valeur par défaut dans la définition de la fonciton"
   ]
  },
  {
   "cell_type": "code",
   "execution_count": null,
   "metadata": {},
   "outputs": [],
   "source": [
    "def table_mult(n=7):\n",
    "    print(\"------------------------------\")\n",
    "    print(\"table de multiplication par \"+str(n))\n",
    "    print(\"------------------------------\")\n",
    "    for i in range(13):\n",
    "        resultat = i*n\n",
    "        print(str(i)+\" fois \"+str(n)+\" égal \"+str(resultat))\n",
    "    \n",
    "table_mult(2)\n",
    "table_mult() # Aucune valeur n'est donnée, on prend la valeur par défaut : 7"
   ]
  },
  {
   "cell_type": "markdown",
   "metadata": {},
   "source": [
    "### Définir une fonction avec plusieurs arguments\n",
    "\n",
    "Une fonction peut aussi prendre plusieurs arguments. Prenons notre fonction de table de multiplication. Nous avons choisi de faire aller les tables de 0 à 12. Disons que c'est un mode \"étendu\". On peut proposer deux modes : le mode \"étendu\" ou le mode normal. \n",
    "\n",
    "Le choix entre les deux modes se fera grâce à un booléen qui vaudra **True** si le mode est étendu, et **False** sinon (on affiche alors la table en multipliant de 1 à 10). Voici le code résultant."
   ]
  },
  {
   "cell_type": "code",
   "execution_count": null,
   "metadata": {},
   "outputs": [],
   "source": [
    "def table_mult(n,etendu):\n",
    "    print(\"------------------------------\")\n",
    "    print(\"table de multiplication par \"+str(n))\n",
    "    print(\"------------------------------\")\n",
    "    if etendu :\n",
    "        portee = range(13)\n",
    "    else :\n",
    "        portee = range(1,11)\n",
    "    for i in portee :\n",
    "        resultat = i*n\n",
    "        print(str(i)+\" fois \"+str(n)+\" égal \"+str(resultat))\n",
    "\n",
    "table_mult(7,True)\n",
    "table_mult(9,False)"
   ]
  },
  {
   "cell_type": "markdown",
   "metadata": {},
   "source": [
    "## Une erreur commune\n",
    "\n",
    "Une erreur classique est d'utiliser une fonction avant qu'elle ne soit définie. Bien évidemment, cela ne peut pas fonctionner. Essayer de lancer l'exemple ci dessous puis corrigez le\n"
   ]
  },
  {
   "cell_type": "code",
   "execution_count": null,
   "metadata": {},
   "outputs": [],
   "source": [
    "Salue(\"Martin\")\n",
    "Salue(\"Bob\")\n",
    "Salue(\"Alice\")\n",
    "\n",
    "def Salue(people):\n",
    "    chaine=\"Salut, \"+people+\". Comment vas tu ?\"\n",
    "    print(chaine)"
   ]
  },
  {
   "cell_type": "markdown",
   "metadata": {},
   "source": [
    "## Valeur de retour\n",
    "\n",
    "Les fonctions que nous avons vu jusqu'ici affichaient des choses mais ont une différence majeure avec ce que nous appelons fonction an mathématique : elle ne renvoient pas de valeurs.\n",
    "\n",
    "Une fonction en Python peut renvoyer une valeur. On utilise pour cela le mot clef **return**. Imaginons par exemple que nous souhaitions avoir une fonction qui renvoie la distance entre deux points du plan. \n",
    "\n",
    "Pour cela nous utiliserons la [bibliothèque mathématique de Python](https://docs.python.org/fr/3.7/library/math.html) qui fournit la fonction **sqrt** (*square root* en anglais, la racine carrée)\n",
    "\n",
    "Lorsqu'une fonction retourne une variable, c'est comme si, à l'éxécution, elle était remplacée par la variable qu'elle retourne\n"
   ]
  },
  {
   "cell_type": "code",
   "execution_count": null,
   "metadata": {},
   "outputs": [],
   "source": [
    "import math\n",
    "\n",
    "def distance(x0,y0,x1,y1):\n",
    "    d = math.sqrt((x1-x0)**2+(y1-y0)**2)\n",
    "    return d\n",
    "\n",
    "print(distance(0,0,3,2))"
   ]
  },
  {
   "cell_type": "markdown",
   "metadata": {},
   "source": [
    "## Exercice\n",
    "\n",
    "Écrivez une fonction **ecrit_nombre()** qui prend un nombre en argument. Pour les nombres entre 0 et 7, elle renverra une chaine de caractère avec le nombre écrit en toute lettre, et pour les autres la chaine de caractère \"Je ne connais pas ce nombre\""
   ]
  },
  {
   "cell_type": "code",
   "execution_count": null,
   "metadata": {},
   "outputs": [],
   "source": [
    "# Écrivez votre code ici, testez le sur des exemple et si vous êtes en classe, montrez le au professeur."
   ]
  }
 ],
 "metadata": {
  "kernelspec": {
   "display_name": "Python 3.7",
   "language": "python",
   "name": "python37"
  },
  "language_info": {
   "codemirror_mode": {
    "name": "ipython",
    "version": 3
   },
   "file_extension": ".py",
   "mimetype": "text/x-python",
   "name": "python",
   "nbconvert_exporter": "python",
   "pygments_lexer": "ipython3",
   "version": "3.7.4"
  }
 },
 "nbformat": 4,
 "nbformat_minor": 2
}

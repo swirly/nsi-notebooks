{
 "cells": [
  {
   "cell_type": "code",
   "execution_count": 1,
   "metadata": {},
   "outputs": [
    {
     "data": {
      "text/html": [
       "<style>html {\n",
       "  font-size: 62.5% !important; }\n",
       "body {\n",
       "  font-size: 1.5em !important; /* currently ems cause chrome bug misinterpreting rems on body element */\n",
       "  line-height: 1.6 !important;\n",
       "  font-weight: 400 !important;\n",
       "  font-family: \"Raleway\", \"HelveticaNeue\", \"Helvetica Neue\", Helvetica, Arial, sans-serif !important;\n",
       "  color: #111 !important; }\n",
       "\n",
       "div{ border-radius: 0px !important;  }\n",
       "div.CodeMirror-sizer{ background: rgb(244, 244, 248) !important; }\n",
       "div.input_area{ background: rgb(244, 244, 248) !important; }\n",
       "\n",
       "div.out_prompt_overlay:hover{ background: rgb(244, 244, 248) !important; }\n",
       "div.input_prompt:hover{ background: rgb(244, 244, 248) !important; }\n",
       "\n",
       "h1, h2, h3, h4, h5, h6 {\n",
       "  color: #333 !important;\n",
       "  margin-top: 0 !important;\n",
       "  margin-bottom: 1rem !important;\n",
       "  font-weight: 300 !important; }\n",
       "h1 { font-size: 4.0rem !important; line-height: 1.2 !important;  letter-spacing: -.1rem !important;}\n",
       "h2 { font-size: 3.6rem !important; line-height: 1.25 !important; letter-spacing: -.1rem !important; }\n",
       "h3 { font-size: 3.0rem !important; line-height: 1.3 !important;  letter-spacing: -.1rem !important; }\n",
       "h4 { font-size: 2.4rem !important; line-height: 1.35 !important; letter-spacing: -.08rem !important; }\n",
       "h5 { font-size: 1.8rem !important; line-height: 1.5 !important;  letter-spacing: -.05rem !important; }\n",
       "h6 { font-size: 1.5rem !important; line-height: 1.6 !important;  letter-spacing: 0 !important; }\n",
       "\n",
       "@media (min-width: 550px) {\n",
       "  h1 { font-size: 5.0rem !important; }\n",
       "  h2 { font-size: 4.2rem !important; }\n",
       "  h3 { font-size: 3.6rem !important; }\n",
       "  h4 { font-size: 3.0rem !important; }\n",
       "  h5 { font-size: 2.4rem !important; }\n",
       "  h6 { font-size: 1.5rem !important; }\n",
       "}\n",
       "\n",
       "p {\n",
       "  margin-top: 0 !important; \n",
       "  margin-bottom: 0.9rem !important;\n",
       "  text-align: justify !important;\n",
       "  text-indent: 1.5rem;\n",
       "  color:#111;\n",
       "}\n",
       "\n",
       "a {\n",
       "  color: #1EAEDB !important; }\n",
       "a:hover {\n",
       "  color: #0FA0CE !important; }\n",
       "  \n",
       "code {\n",
       "  padding: .2rem .5rem !important;\n",
       "  margin: 0 .2rem !important;\n",
       "  font-size: 90% !important;\n",
       "  white-space: nowrap !important;\n",
       "  background: #F1F1F1 !important;\n",
       "  border: 1px solid #E1E1E1 !important;\n",
       "  border-radius: 4px !important; }\n",
       "pre > code {\n",
       "  display: block !important;\n",
       "  padding: 1rem 1.5rem !important;\n",
       "  white-space: pre !important; }\n",
       "  \n",
       "button{ border-radius: 0px !important; }\n",
       ".navbar-inner{ background-image: none !important;  }\n",
       "select, textarea{ border-radius: 0px !important; }\n",
       "\n",
       "/* TEST */\n",
       "/* GLOBALS */\n",
       "body {background-color: #fdf6e3;}\n",
       "a {color: #268bd2;}\n",
       "\n",
       "/* INTRO PAGE */\n",
       ".toolbar_info, .list-container {color: #073642;}\n",
       "\n",
       "/* NOTEBOOK */\n",
       "\n",
       "/* comment out this line to bring the toolbar back */\n",
       "/* div#maintoolbar, div#header {display: none !important;}\n",
       "*/\n",
       "\n",
       "div#notebook, div.CodeMirror, div.output_area pre, div.output_wrapper, div.prompt {\n",
       "  font-family: 'Custom Font Name', monospace !important;\n",
       "}\n",
       "\n",
       "div#notebook {border-top: none;}\n",
       "\n",
       "div.input_prompt {color: #6c71c4;}\n",
       "div.output_prompt {color: #d33682;}\n",
       "div.input_area {\n",
       "  border-radius: 0px;\n",
       "  border: 1px solid #93a1a1;\n",
       "}\n",
       "div.output_area pre {font-weight: normal; color: #586e75;}\n",
       "div.output_subarea {font-weight: normal; color: #586e75;}\n",
       "\n",
       ".rendered_html table, .rendered_html th, .rendered_html tr, .rendered_html td {\n",
       "  border: 1px  #657b83 solid;\n",
       "  color: #657b83;\n",
       "}\n",
       "div.output_html { font-family: sans-serif; }\n",
       "table.dataframe tr {border: 1px #586e75;}\n",
       "\n",
       "div.cell.selected {border-radius: 0px;}\n",
       "div.cell.edit_mode {border-radius: 0px; border: thin solid #d33682;}\n",
       "div.text_cell_render, div.output_html {color: #586e75;}\n",
       "\n",
       "span.ansiblack {color: #073642;}\n",
       "span.ansiblue {color: #2aa198;}\n",
       "span.ansigray {color: #839496;}\n",
       "span.ansigreen {color: #859900;}\n",
       "span.ansipurple {color: #6c71c4;}\n",
       "span.ansired {color: #dc322f;}\n",
       "span.ansiyellow {color: #b58900;}\n",
       "\n",
       "div.output_stderr {background-color: #dc322f;}\n",
       "div.output_stderr pre {color: #eee8d5;}\n",
       "\n",
       ".cm-s-ipython.CodeMirror {background: #fdf6e3; color: #073642;}\n",
       ".cm-s-ipython div.CodeMirror-selected {background: #eee8d5 !important;}\n",
       ".cm-s-ipython .CodeMirror-gutters {background: #fdf6e3; border-right: 0px;}\n",
       ".cm-s-ipython .CodeMirror-linenumber {color: #839496;}\n",
       ".cm-s-ipython .CodeMirror-cursor {border-left: 1px solid #657b83 !important;}\n",
       "\n",
       ".cm-s-ipython span.cm-comment {color: #d33682;}\n",
       ".cm-s-ipython span.cm-atom {color: #6c71c4;}\n",
       ".cm-s-ipython span.cm-number {color: #6c71c4;}\n",
       "\n",
       ".cm-s-ipython span.cm-property, .cm-s-ipython span.cm-attribute {color: #859900;}\n",
       ".cm-s-ipython span.cm-keyword {color: #dc322f;}\n",
       ".cm-s-ipython span.cm-string {color: #b58900;}\n",
       ".cm-s-ipython span.cm-operator {color: #d33682;}\n",
       ".cm-s-ipython span.cm-builtin {color: #6c71c4;}\n",
       "\n",
       ".cm-s-ipython span.cm-variable {color: #859900;}\n",
       ".cm-s-ipython span.cm-variable-2 {color: #268bd2;}\n",
       ".cm-s-ipython span.cm-def {color: #cb4b16;}\n",
       ".cm-s-ipython span.cm-error {background: #dc322f; color: #657b83;}\n",
       ".cm-s-ipython span.cm-bracket {color: #586e75;}\n",
       ".cm-s-ipython span.cm-tag {color: #dc322f;}\n",
       ".cm-s-ipython span.cm-link {color: #6c71c4;}\n",
       "\n",
       ".cm-s-ipython .CodeMirror-matchingbracket { text-decoration: underline; color: #073642 !important;}\n",
       "</style>"
      ],
      "text/plain": [
       "<IPython.core.display.HTML object>"
      ]
     },
     "execution_count": 1,
     "metadata": {},
     "output_type": "execute_result"
    }
   ],
   "source": [
    "from IPython.display import HTML\n",
    "HTML('<style>{}</style>'.format(open('custom.css').read()))"
   ]
  },
  {
   "cell_type": "markdown",
   "metadata": {},
   "source": [
    "<div style=\"text-align: center\"><img src=\"https://www.python.org/static/img/python-logo.png\"></div>"
   ]
  },
  {
   "cell_type": "markdown",
   "metadata": {},
   "source": [
    "# Les listes en Python"
   ]
  },
  {
   "cell_type": "markdown",
   "metadata": {},
   "source": [
    "Python possède des types composés qui sont utilisés pour regrouper ensemble des variables de différents types. Le plus polyvalent sont les listes (de type [*list*](https://docs.python.org/fr/3.7/library/stdtypes.html#typesseq-list) ), qui peuvent être écrits comme une suite de valeurs séparées par des virgules le tout encadré par des crochets.\n",
    "\n",
    "Les listes peuvent contenir des objets de type différent, mais généralement, il sont de même type\n",
    "\n",
    "Voici un exemple de liste qui contient le carré des nombres de 1 à 5 :"
   ]
  },
  {
   "cell_type": "code",
   "execution_count": null,
   "metadata": {},
   "outputs": [],
   "source": [
    "squares = [1, 4, 9, 16, 25]\n",
    "squares"
   ]
  },
  {
   "cell_type": "markdown",
   "metadata": {},
   "source": [
    "On compare souvent une variable à une boite où l'on range des valeurs. Une liste peut de la même façon être considérée comme une étagère où l'on range ces boites. Les étages sont numérotés, en partant de 0.\n",
    "\n",
    "Le premier élément de la liste a pour indice 0\n",
    "\n",
    "Le second élément de la liste a pour indice 1\n",
    "\n",
    "Le cinquième élément de la liste a pour indice 4\n",
    "\n",
    "Vous trouvez cela bizarre ? Pensez au étages de immeubles avec le rez de chaussée ..."
   ]
  },
  {
   "cell_type": "code",
   "execution_count": null,
   "metadata": {},
   "outputs": [],
   "source": [
    "squares[0]  # Le premier élément de la liste des carrés"
   ]
  },
  {
   "cell_type": "code",
   "execution_count": null,
   "metadata": {},
   "outputs": [],
   "source": [
    "squares[3] # Le 4ème élément de la liste des carrés"
   ]
  },
  {
   "cell_type": "markdown",
   "metadata": {},
   "source": [
    "On peut aussi numéroter à partir de la fin en utilisant un nombre négatif pour l'indice. Ainsi, -1 permet d'avoir le premier élément en partant de la fin"
   ]
  },
  {
   "cell_type": "code",
   "execution_count": null,
   "metadata": {},
   "outputs": [],
   "source": [
    "squares[-1]"
   ]
  },
  {
   "cell_type": "markdown",
   "metadata": {},
   "source": [
    "## Tranches de liste et concaténation\n",
    "\n",
    "Il est possible, à partir d'une liste d'obtenir une autre liste qui est une partie de la première. On coupe la liste en tranches. Pour cela, on utilise toujours les crochets mais on met deux nombres séparés par un double point. Le nombre de gauche est l'indice du premier élément que l'on prend, le deuxième nombre est l'indice du premier élement exclus"
   ]
  },
  {
   "cell_type": "code",
   "execution_count": null,
   "metadata": {},
   "outputs": [],
   "source": [
    "nouvelle = squares[1:3]  # Retourne une nouvelle liste contenant les élèments d'indice 1 et 2 de la liste des carrés\n",
    "nouvelle"
   ]
  },
  {
   "cell_type": "markdown",
   "metadata": {},
   "source": [
    "Il est aussi possible de créer une liste en en mettant deux bout à bout (la concaténation). Comme pour les chaines de caractère, on utilise le signe `+`"
   ]
  },
  {
   "cell_type": "code",
   "execution_count": null,
   "metadata": {},
   "outputs": [],
   "source": [
    "squares + [36, 49, 64, 81, 100] # on ajoute les carrés des nombres de 6 à 10"
   ]
  },
  {
   "cell_type": "markdown",
   "metadata": {},
   "source": [
    "## Modification d'une liste\n",
    "\n",
    "Les listes sont [mutable](https://docs.python.org/fr/3.7/glossary.html#term-mutable), ce qui signifie que vous pouvez changer le contenu des éléments de la liste"
   ]
  },
  {
   "cell_type": "code",
   "execution_count": null,
   "metadata": {},
   "outputs": [],
   "source": [
    "cubes = [1, 8, 27, 65, 125]  # Oups, j'ai fait une erreur ...\n",
    "4 ** 3  # Le cube de 4 est 64, pas 65!"
   ]
  },
  {
   "cell_type": "code",
   "execution_count": null,
   "metadata": {},
   "outputs": [],
   "source": [
    "cubes[3] = 64  # Je remplace le 4ème élément, qui a pour indice 3\n",
    "cubes"
   ]
  },
  {
   "cell_type": "markdown",
   "metadata": {},
   "source": [
    "Vous pouvez aussi ajouter un élément à la fin d'une liste en utilisant la méthode `append`. Nous verrons plus tard ce que peut être une méthode et un objet."
   ]
  },
  {
   "cell_type": "code",
   "execution_count": null,
   "metadata": {},
   "outputs": [],
   "source": [
    "cubes.append(216)  # On ajoute le cube de 6 à la fin de la liste\n",
    "cubes.append(7 ** 3)  # et maintenant le cube de 7.\n",
    "cubes"
   ]
  },
  {
   "cell_type": "markdown",
   "metadata": {},
   "source": [
    "Il existe une fonction prédéfinie qui permet de donner la longueur d'une liste, la fonction `len`"
   ]
  },
  {
   "cell_type": "code",
   "execution_count": null,
   "metadata": {},
   "outputs": [],
   "source": [
    "letters = ['a', 'b', 'c', 'd']\n",
    "len(letters)"
   ]
  },
  {
   "cell_type": "markdown",
   "metadata": {},
   "source": [
    "## Liste de listes\n",
    "\n",
    "Les éléments d'une liste peuvent être des listes. Cela donne des tableaux à deux dimensions. Il peuvent être très utiles pour représenter des images, des plateaux de jeux, et bien d'autres choses encore. \n",
    "\n",
    "Voici ci dessous un exemple ou a et n sont deux listes, et la liste x les contient. Regardez comment sont utilisés les indices"
   ]
  },
  {
   "cell_type": "code",
   "execution_count": null,
   "metadata": {},
   "outputs": [],
   "source": [
    "a = ['a', 'b', 'c']\n",
    "n = [1, 2, 3]\n",
    "x = [a, n]\n",
    "x"
   ]
  },
  {
   "cell_type": "code",
   "execution_count": null,
   "metadata": {},
   "outputs": [],
   "source": [
    "x[0]"
   ]
  },
  {
   "cell_type": "code",
   "execution_count": null,
   "metadata": {},
   "outputs": [],
   "source": [
    "x[0][1]"
   ]
  },
  {
   "cell_type": "markdown",
   "metadata": {},
   "source": [
    "## La suite \n",
    "\n",
    "On va pouvoir passer aux [boucles for](4_boucles.ipynb)"
   ]
  }
 ],
 "metadata": {
  "kernelspec": {
   "display_name": "Python 3",
   "language": "python",
   "name": "python3"
  },
  "language_info": {
   "codemirror_mode": {
    "name": "ipython",
    "version": 3
   },
   "file_extension": ".py",
   "mimetype": "text/x-python",
   "name": "python",
   "nbconvert_exporter": "python",
   "pygments_lexer": "ipython3",
   "version": "3.4.3"
  }
 },
 "nbformat": 4,
 "nbformat_minor": 1
}

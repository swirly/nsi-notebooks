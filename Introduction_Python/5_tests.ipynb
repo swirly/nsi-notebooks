{
 "cells": [
  {
   "cell_type": "code",
   "execution_count": 1,
   "metadata": {},
   "outputs": [
    {
     "data": {
      "text/html": [
       "<style>html {\n",
       "  font-size: 62.5% !important; }\n",
       "body {\n",
       "  font-size: 1.5em !important; /* currently ems cause chrome bug misinterpreting rems on body element */\n",
       "  line-height: 1.6 !important;\n",
       "  font-weight: 400 !important;\n",
       "  font-family: \"Raleway\", \"HelveticaNeue\", \"Helvetica Neue\", Helvetica, Arial, sans-serif !important;\n",
       "  color: #111 !important; }\n",
       "\n",
       "div{ border-radius: 0px !important;  }\n",
       "div.CodeMirror-sizer{ background: rgb(244, 244, 248) !important; }\n",
       "div.input_area{ background: rgb(244, 244, 248) !important; }\n",
       "\n",
       "div.out_prompt_overlay:hover{ background: rgb(244, 244, 248) !important; }\n",
       "div.input_prompt:hover{ background: rgb(244, 244, 248) !important; }\n",
       "\n",
       "h1, h2, h3, h4, h5, h6 {\n",
       "  color: #333 !important;\n",
       "  margin-top: 0 !important;\n",
       "  margin-bottom: 1rem !important;\n",
       "  font-weight: 300 !important; }\n",
       "h1 { font-size: 4.0rem !important; line-height: 1.2 !important;  letter-spacing: -.1rem !important;}\n",
       "h2 { font-size: 3.6rem !important; line-height: 1.25 !important; letter-spacing: -.1rem !important; }\n",
       "h3 { font-size: 3.0rem !important; line-height: 1.3 !important;  letter-spacing: -.1rem !important; }\n",
       "h4 { font-size: 2.4rem !important; line-height: 1.35 !important; letter-spacing: -.08rem !important; }\n",
       "h5 { font-size: 1.8rem !important; line-height: 1.5 !important;  letter-spacing: -.05rem !important; }\n",
       "h6 { font-size: 1.5rem !important; line-height: 1.6 !important;  letter-spacing: 0 !important; }\n",
       "\n",
       "@media (min-width: 550px) {\n",
       "  h1 { font-size: 5.0rem !important; }\n",
       "  h2 { font-size: 4.2rem !important; }\n",
       "  h3 { font-size: 3.6rem !important; }\n",
       "  h4 { font-size: 3.0rem !important; }\n",
       "  h5 { font-size: 2.4rem !important; }\n",
       "  h6 { font-size: 1.5rem !important; }\n",
       "}\n",
       "\n",
       "p {\n",
       "  margin-top: 0 !important; \n",
       "  margin-bottom: 0.9rem !important;\n",
       "  text-align: justify !important;\n",
       "  text-indent: 1.5rem;\n",
       "  color:#111;\n",
       "}\n",
       "\n",
       "a {\n",
       "  color: #1EAEDB !important; }\n",
       "a:hover {\n",
       "  color: #0FA0CE !important; }\n",
       "  \n",
       "code {\n",
       "  padding: .2rem .5rem !important;\n",
       "  margin: 0 .2rem !important;\n",
       "  font-size: 90% !important;\n",
       "  white-space: nowrap !important;\n",
       "  background: #F1F1F1 !important;\n",
       "  border: 1px solid #E1E1E1 !important;\n",
       "  border-radius: 4px !important; }\n",
       "pre > code {\n",
       "  display: block !important;\n",
       "  padding: 1rem 1.5rem !important;\n",
       "  white-space: pre !important; }\n",
       "  \n",
       "button{ border-radius: 0px !important; }\n",
       ".navbar-inner{ background-image: none !important;  }\n",
       "select, textarea{ border-radius: 0px !important; }\n",
       "\n",
       "/* TEST */\n",
       "/* GLOBALS */\n",
       "body {background-color: #fdf6e3;}\n",
       "a {color: #268bd2;}\n",
       "\n",
       "/* INTRO PAGE */\n",
       ".toolbar_info, .list-container {color: #073642;}\n",
       "\n",
       "/* NOTEBOOK */\n",
       "\n",
       "/* comment out this line to bring the toolbar back */\n",
       "/* div#maintoolbar, div#header {display: none !important;}\n",
       "*/\n",
       "\n",
       "div#notebook, div.CodeMirror, div.output_area pre, div.output_wrapper, div.prompt {\n",
       "  font-family: 'Custom Font Name', monospace !important;\n",
       "}\n",
       "\n",
       "div#notebook {border-top: none;}\n",
       "\n",
       "div.input_prompt {color: #6c71c4;}\n",
       "div.output_prompt {color: #d33682;}\n",
       "div.input_area {\n",
       "  border-radius: 0px;\n",
       "  border: 1px solid #93a1a1;\n",
       "}\n",
       "div.output_area pre {font-weight: normal; color: #586e75;}\n",
       "div.output_subarea {font-weight: normal; color: #586e75;}\n",
       "\n",
       ".rendered_html table, .rendered_html th, .rendered_html tr, .rendered_html td {\n",
       "  border: 1px  #657b83 solid;\n",
       "  color: #657b83;\n",
       "}\n",
       "div.output_html { font-family: sans-serif; }\n",
       "table.dataframe tr {border: 1px #586e75;}\n",
       "\n",
       "div.cell.selected {border-radius: 0px;}\n",
       "div.cell.edit_mode {border-radius: 0px; border: thin solid #d33682;}\n",
       "div.text_cell_render, div.output_html {color: #586e75;}\n",
       "\n",
       "span.ansiblack {color: #073642;}\n",
       "span.ansiblue {color: #2aa198;}\n",
       "span.ansigray {color: #839496;}\n",
       "span.ansigreen {color: #859900;}\n",
       "span.ansipurple {color: #6c71c4;}\n",
       "span.ansired {color: #dc322f;}\n",
       "span.ansiyellow {color: #b58900;}\n",
       "\n",
       "div.output_stderr {background-color: #dc322f;}\n",
       "div.output_stderr pre {color: #eee8d5;}\n",
       "\n",
       ".cm-s-ipython.CodeMirror {background: #fdf6e3; color: #073642;}\n",
       ".cm-s-ipython div.CodeMirror-selected {background: #eee8d5 !important;}\n",
       ".cm-s-ipython .CodeMirror-gutters {background: #fdf6e3; border-right: 0px;}\n",
       ".cm-s-ipython .CodeMirror-linenumber {color: #839496;}\n",
       ".cm-s-ipython .CodeMirror-cursor {border-left: 1px solid #657b83 !important;}\n",
       "\n",
       ".cm-s-ipython span.cm-comment {color: #d33682;}\n",
       ".cm-s-ipython span.cm-atom {color: #6c71c4;}\n",
       ".cm-s-ipython span.cm-number {color: #6c71c4;}\n",
       "\n",
       ".cm-s-ipython span.cm-property, .cm-s-ipython span.cm-attribute {color: #859900;}\n",
       ".cm-s-ipython span.cm-keyword {color: #dc322f;}\n",
       ".cm-s-ipython span.cm-string {color: #b58900;}\n",
       ".cm-s-ipython span.cm-operator {color: #d33682;}\n",
       ".cm-s-ipython span.cm-builtin {color: #6c71c4;}\n",
       "\n",
       ".cm-s-ipython span.cm-variable {color: #859900;}\n",
       ".cm-s-ipython span.cm-variable-2 {color: #268bd2;}\n",
       ".cm-s-ipython span.cm-def {color: #cb4b16;}\n",
       ".cm-s-ipython span.cm-error {background: #dc322f; color: #657b83;}\n",
       ".cm-s-ipython span.cm-bracket {color: #586e75;}\n",
       ".cm-s-ipython span.cm-tag {color: #dc322f;}\n",
       ".cm-s-ipython span.cm-link {color: #6c71c4;}\n",
       "\n",
       ".cm-s-ipython .CodeMirror-matchingbracket { text-decoration: underline; color: #073642 !important;}\n",
       "</style>"
      ],
      "text/plain": [
       "<IPython.core.display.HTML object>"
      ]
     },
     "execution_count": 1,
     "metadata": {},
     "output_type": "execute_result"
    }
   ],
   "source": [
    "from IPython.display import HTML\n",
    "HTML('<style>{}</style>'.format(open('custom.css').read()))"
   ]
  },
  {
   "cell_type": "markdown",
   "metadata": {},
   "source": [
    "<div style=\"text-align: center\"><img src=\"https://www.python.org/static/img/python-logo.png\"></div>"
   ]
  },
  {
   "cell_type": "markdown",
   "metadata": {},
   "source": [
    "# Structures conditionnelles\n",
    "\n",
    "## Qu'est ce qu'une structure conditionnelle ?\n",
    "\n",
    "En donnant la possibilité à votre programme d'agir différement suivant les données et les situation, on lui fait accomplir des actions plus complexes. C'est cette possibilité qui peut faire croire à une *intelligence de la machine*. Il n'en est rien. L'intelligence est dans la conception et l'implémentation de l'algorithme.\n",
    "\n",
    "L'instruction **if** (*si* en anglais) effectue un test sur une condition et agira en fonction de la réponse reçue à ce test. Si la condition est remplie, le bloc d'instruction suivant est exécuté. Au cas où l'instruction n'est pas remplie, c'est le bloc d'instruction après le **else** (*sinon* en anglais) qui va être effectué. \n",
    "\n",
    "### Exemple\n",
    "\n",
    "Voici un exemple simple et qui donne l'eau à la bouche (testez le programme en l'exécutant)\n"
   ]
  },
  {
   "cell_type": "code",
   "execution_count": null,
   "metadata": {},
   "outputs": [],
   "source": [
    "# Une liste des desserts que j'aime\n",
    "desserts = ['la glace', 'le fondant au chocolat', 'la tarte aux pommes', 'le flan']\n",
    "favorite_dessert = 'la tarte aux pommes'\n",
    "\n",
    "# Afficher tous les desserts que j'aime mais indiquer lequel est mon préféré\n",
    "for dessert in desserts:\n",
    "    if dessert == favorite_dessert:\n",
    "        # C'est mon dessert favori !\n",
    "        print(\"%s est mon dessert favori!\" % dessert.capitalize())\n",
    "    else:\n",
    "        # J'aime bien ces dessert mais ce ne sont pas mes favoris\n",
    "        print(\"J'aime bien %s.\" % dessert)"
   ]
  },
  {
   "cell_type": "markdown",
   "metadata": {},
   "source": [
    "\n",
    "### Qu'est ce qui arrive dans ce programme ?\n",
    "\n",
    "Le programme commence avec une liste de desserts est l'un d'entre eux est identifié comme le dessert favori\n",
    "\n",
    "La boucle parcoure tous les desserts\n",
    "\n",
    "Au sein de la boucle, chaque élément est testé :\n",
    " * Si l'élément est le dessert favori, un message est affiché qui l'indique (*notez le capitalize() qui met la première lettre en majuscule*)\n",
    " * Sinon , un message affiche que c'est un dessert que j'aime\n",
    " \n",
    "De nombreux types de tests sont possibles, nous allons en voir quelques un"
   ]
  },
  {
   "cell_type": "markdown",
   "metadata": {},
   "source": [
    "## Les différents types de test logiques\n",
    "\n",
    "Les tests présentés ci dessous sont des opérateurs qui vont comparer deux éléments et renvoyer une réponse booléenne, c'est à dire un variable qui peut valoir **True** (*vrai*) ou **False** (*faux*)\n",
    "\n",
    " * Le test d'égalité **==**\n",
    " * Le test de différence **!=**\n",
    " * Les tests d'inégalité \n",
    "   - infériorité **<**\n",
    "   - supériorité **>**\n",
    "   - inférieur ou égal **<=**\n",
    "   - supérieur ou égal **>=**\n",
    " * L'appartenance à une liste (avec le mot clef **in**)\n",
    " \n",
    "Voici des exemples que vous allez évaluez vous même"
   ]
  },
  {
   "cell_type": "markdown",
   "metadata": {},
   "source": [
    "### Égalités\n",
    "\n",
    "On fera bien attention à la notion de type (compare t'on des nombres ? Des chaines de caractères) et à la casse pour les chaînes de caractère (majuscule ou minuscule ?)"
   ]
  },
  {
   "cell_type": "code",
   "execution_count": null,
   "metadata": {},
   "outputs": [],
   "source": [
    "5 == 5"
   ]
  },
  {
   "cell_type": "code",
   "execution_count": null,
   "metadata": {},
   "outputs": [],
   "source": [
    "3 == 5 "
   ]
  },
  {
   "cell_type": "code",
   "execution_count": null,
   "metadata": {},
   "outputs": [],
   "source": [
    "5 == 5.0"
   ]
  },
  {
   "cell_type": "code",
   "execution_count": null,
   "metadata": {},
   "outputs": [],
   "source": [
    "'eric' == 'eric'"
   ]
  },
  {
   "cell_type": "code",
   "execution_count": null,
   "metadata": {},
   "outputs": [],
   "source": [
    "'Eric' == 'eric'"
   ]
  },
  {
   "cell_type": "code",
   "execution_count": null,
   "metadata": {},
   "outputs": [],
   "source": [
    "'Eric'.lower() == 'eric'.lower()"
   ]
  },
  {
   "cell_type": "code",
   "execution_count": null,
   "metadata": {},
   "outputs": [],
   "source": [
    "'5' == 5"
   ]
  },
  {
   "cell_type": "code",
   "execution_count": null,
   "metadata": {},
   "outputs": [],
   "source": [
    "'5' == str(5)"
   ]
  },
  {
   "cell_type": "markdown",
   "metadata": {},
   "source": [
    "### La différence\n",
    "\n",
    "On peut tester si deux quantités sont égales et agir si elles ne le sont pas, mais on peut aussi tester directement si elles sont différentes avec l'opérateur **!=** qui teste la différence. Vous pouvez essayer les exemples ci dessous"
   ]
  },
  {
   "cell_type": "code",
   "execution_count": null,
   "metadata": {},
   "outputs": [],
   "source": [
    "3 != 5"
   ]
  },
  {
   "cell_type": "code",
   "execution_count": null,
   "metadata": {},
   "outputs": [],
   "source": [
    "5 != 5"
   ]
  },
  {
   "cell_type": "code",
   "execution_count": null,
   "metadata": {},
   "outputs": [],
   "source": [
    "'Eric' != 'eric'"
   ]
  },
  {
   "cell_type": "markdown",
   "metadata": {},
   "source": [
    "### Les inégalités\n",
    "\n",
    "Testez les exemples ci dessous"
   ]
  },
  {
   "cell_type": "code",
   "execution_count": null,
   "metadata": {},
   "outputs": [],
   "source": [
    "5 > 3"
   ]
  },
  {
   "cell_type": "code",
   "execution_count": null,
   "metadata": {},
   "outputs": [],
   "source": [
    "3 > 3"
   ]
  },
  {
   "cell_type": "code",
   "execution_count": null,
   "metadata": {},
   "outputs": [],
   "source": [
    "3 >= 3"
   ]
  },
  {
   "cell_type": "code",
   "execution_count": null,
   "metadata": {},
   "outputs": [],
   "source": [
    "5 < 3"
   ]
  },
  {
   "cell_type": "code",
   "execution_count": null,
   "metadata": {},
   "outputs": [],
   "source": [
    "3 < 3"
   ]
  },
  {
   "cell_type": "code",
   "execution_count": null,
   "metadata": {},
   "outputs": [],
   "source": [
    "3 <= 3"
   ]
  },
  {
   "cell_type": "markdown",
   "metadata": {},
   "source": [
    "### Savoir si un élément est dans une liste\n",
    "\n",
    "On peut tester avec le mot clef **in** pour savoir si un élément est dans une liste"
   ]
  },
  {
   "cell_type": "code",
   "execution_count": null,
   "metadata": {},
   "outputs": [],
   "source": [
    "voyelles = ['a', 'e', 'i', 'o', 'u']\n",
    "'a' in voyelles"
   ]
  },
  {
   "cell_type": "code",
   "execution_count": null,
   "metadata": {},
   "outputs": [],
   "source": [
    "voyelles = ['a', 'e', 'i', 'o', 'u']\n",
    "'b' in voyelles"
   ]
  },
  {
   "cell_type": "markdown",
   "metadata": {},
   "source": [
    "## Exercice\n",
    "\n",
    "**Le vrai et le faux**\n",
    "\n",
    "Écrivez un programme d'au moins 10 lignes, chacune effectuant au moins une comparaison logique et affichant le résultat. Vous devez avoir 5 résultats vrai et 5 résultats faux\n",
    "\n",
    "*NB: vous devrez sans doute écrire print(5 > 3) et pas juste 5 > 3*"
   ]
  },
  {
   "cell_type": "code",
   "execution_count": null,
   "metadata": {},
   "outputs": [],
   "source": [
    "# Écrivez votre programme ici et évaluez le. Si vous êtes en classe, faîtes vérifier par le professeur\n"
   ]
  },
  {
   "cell_type": "markdown",
   "metadata": {},
   "source": [
    "Passons à la suite : [Les structures conditionnelles chaînées](6_ifelseif.ipynb)"
   ]
  },
  {
   "cell_type": "code",
   "execution_count": null,
   "metadata": {},
   "outputs": [],
   "source": []
  }
 ],
 "metadata": {
  "kernelspec": {
   "display_name": "Python 3.7",
   "language": "python",
   "name": "python37"
  },
  "language_info": {
   "codemirror_mode": {
    "name": "ipython",
    "version": 3
   },
   "file_extension": ".py",
   "mimetype": "text/x-python",
   "name": "python",
   "nbconvert_exporter": "python",
   "pygments_lexer": "ipython3",
   "version": "3.7.4"
  }
 },
 "nbformat": 4,
 "nbformat_minor": 2
}
